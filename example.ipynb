{
 "cells": [
  {
   "cell_type": "markdown",
   "id": "b91af293",
   "metadata": {},
   "source": [
    "### Import necessary packages"
   ]
  },
  {
   "cell_type": "code",
   "execution_count": 18,
   "id": "eb31f317",
   "metadata": {},
   "outputs": [],
   "source": [
    "import os\n",
    "import pandas as pd\n",
    "import numpy as np\n",
    "import statsmodels.formula.api as smf\n",
    "import warnings\n",
    "warnings.filterwarnings('ignore')\n",
    "# pip install --index-url https://test.pypi.org/simple/ synthetic-panel\n",
    "from synthetic_panel import estimate_transitions"
   ]
  },
  {
   "cell_type": "code",
   "execution_count": 24,
   "id": "00f0034b",
   "metadata": {},
   "outputs": [],
   "source": [
    "path = \"https://github.com/rohanbjkr/synthetic_panel/raw/refs/heads/main\""
   ]
  },
  {
   "cell_type": "markdown",
   "id": "517036e0",
   "metadata": {},
   "source": [
    "### Preparing data"
   ]
  },
  {
   "cell_type": "code",
   "execution_count": 25,
   "id": "9df22808",
   "metadata": {},
   "outputs": [
    {
     "data": {
      "text/plain": [
       "Index(['pline_7', 'education_hh', 'rcons', 'gender', 'age1', 'age2', 'age3',\n",
       "       'age4', 'dwelling'],\n",
       "      dtype='object')"
      ]
     },
     "execution_count": 25,
     "metadata": {},
     "output_type": "execute_result"
    }
   ],
   "source": [
    "df2010 = pd.read_stata(os.path.join(path,\"round1.dta\"))\n",
    "df2010.columns"
   ]
  },
  {
   "cell_type": "code",
   "execution_count": 26,
   "id": "ff85d66d",
   "metadata": {},
   "outputs": [
    {
     "data": {
      "text/plain": [
       "Index(['education_hh', 'pline', 'gender', 'age1', 'age2', 'age3', 'age4',\n",
       "       'dwelling', 'rcons'],\n",
       "      dtype='object')"
      ]
     },
     "execution_count": 26,
     "metadata": {},
     "output_type": "execute_result"
    }
   ],
   "source": [
    "df2021 = pd.read_stata(os.path.join(path,\"round2.dta\"))\n",
    "df2021.columns"
   ]
  },
  {
   "cell_type": "markdown",
   "id": "c8155e88",
   "metadata": {},
   "source": [
    "### Transition dynamics"
   ]
  },
  {
   "cell_type": "code",
   "execution_count": null,
   "id": "66428eab",
   "metadata": {},
   "outputs": [
    {
     "name": "stdout",
     "output_type": "stream",
     "text": [
      "✅ Column 'gender' is already integer.\n",
      "✅ Column 'age1' is already integer.\n",
      "✅ Column 'age2' is already integer.\n",
      "✅ Column 'age3' is already integer.\n",
      "✅ Column 'age4' is already integer.\n",
      "✅ Column 'dwelling' is already integer.\n",
      "\n",
      "🔧 Auto-generating cohort from cohort_cols: ['gender', 'age1', 'age2', 'age3', 'age4', 'dwelling']\n",
      "\n",
      "  WARNING: The following cohorts have fewer than 100 observations in df_round2:\n",
      "\n",
      "cohort\n",
      "1_0_0_1_0_1    29\n",
      "1_0_0_0_1_1    26\n",
      "0_1_0_0_0_1    23\n",
      "1_0_1_0_0_1    20\n",
      "0_0_1_0_0_1    12\n",
      "0_0_0_1_0_1    11\n",
      "0_0_0_0_1_1    11\n",
      "0_1_0_0_0_0    11\n",
      "1_1_0_0_0_1    10\n",
      "0_0_0_1_0_0     9\n",
      "1_1_0_0_0_0     9\n",
      "1_0_0_0_1_0     7\n",
      "1_0_1_0_0_0     6\n",
      "1_0_0_1_0_0     4\n",
      "0_0_1_0_0_0     4\n",
      "Name: count, dtype: int64\n",
      "\n",
      "Consider collapsing categories or using fewer cohort_cols.\n",
      "\n",
      "⏳ Running bootstrap...\n"
     ]
    },
    {
     "name": "stderr",
     "output_type": "stream",
     "text": [
      "Bootstrap (MP): 100%|██████████| 5/5 [00:05<00:00,  1.14s/iter]"
     ]
    },
    {
     "name": "stdout",
     "output_type": "stream",
     "text": [
      "\n",
      "✅ Bootstrap completed.\n",
      "⏱️  Total time: 5.7 sec\n",
      "\n",
      "=== Bootstrap Poverty Transition Shares ===\n",
      "Stayed Poor (P11): 2.4%  (SE: 1.40%)\n",
      "Escaped Poverty (P10): 17.4%  (SE: 1.26%)\n",
      "Fell into Poverty (P01): 13.2%  (SE: 1.15%)\n",
      "Stayed Non-poor (P00): 67.0%  (SE: 0.97%)\n",
      "\n",
      "💾 Saved results to D:\\OneDrive\\Documents\\synthetic_panel\\test.xlsx\n",
      "      rho_c  rho_partial  Stayed Poor (P11)  Escaped Poverty (P10)  \\\n",
      "0  0.159851     0.145094           0.042141               0.158236   \n",
      "1 -0.217859    -0.260548           0.016829               0.183952   \n",
      "2  0.038360     0.020227           0.033386               0.164176   \n",
      "3 -0.133290    -0.160593           0.021740               0.174267   \n",
      "4 -0.473152    -0.514343           0.006468               0.187699   \n",
      "\n",
      "   Fell into Poverty (P01)  Stayed Non-poor (P00)  \n",
      "0                 0.116897               0.682727  \n",
      "1                 0.135601               0.663622  \n",
      "2                 0.126394               0.676044  \n",
      "3                 0.135923               0.668073  \n",
      "4                 0.147478               0.658359  \n"
     ]
    },
    {
     "name": "stderr",
     "output_type": "stream",
     "text": [
      "\n"
     ]
    }
   ],
   "source": [
    "bootstrap_results = estimate_transitions(\n",
    "    df_round1=df2010,\n",
    "    df_round2=df2021,\n",
    "    x_cols=['gender','age1', 'age2', 'age3','age4'],         \n",
    "    cohort_cols=['gender','age1', 'age2', 'age3','age4'],\n",
    "    dep_var_round1='rcons',                                   # dependent var in round1\n",
    "    dep_var_round2='rcons',                                   # dependent var in round2\n",
    "    pline_round1_name='pline_7',                              # will auto-calc using df2010['pline_7']\n",
    "    pline_round2_name='pline',                                # poverty line col in df2021\n",
    "    cohort_col='cohort',                                      # cohort ID column name\n",
    "    auto_create_cohort=True,                                  # create cohort from cohort_cols\n",
    "    log_transform=True,                                       # log-transform dependent vars\n",
    "    n_bootstrap=5,                                            # number of bootstrap reps\n",
    "    use_multiprocessing=True,                                 # use parallel processing\n",
    "    output_excel_filename=\"test.xlsx\",                        # save Excel file in current dir\n",
    "    seed=42                                                    # random seed for reproducibility\n",
    ")\n",
    "\n",
    "print(bootstrap_results.head())"
   ]
  },
  {
   "cell_type": "code",
   "execution_count": null,
   "id": "d9e9729d",
   "metadata": {},
   "outputs": [],
   "source": []
  }
 ],
 "metadata": {
  "kernelspec": {
   "display_name": "base",
   "language": "python",
   "name": "python3"
  },
  "language_info": {
   "codemirror_mode": {
    "name": "ipython",
    "version": 3
   },
   "file_extension": ".py",
   "mimetype": "text/x-python",
   "name": "python",
   "nbconvert_exporter": "python",
   "pygments_lexer": "ipython3",
   "version": "3.13.5"
  }
 },
 "nbformat": 4,
 "nbformat_minor": 5
}
