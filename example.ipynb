{
 "cells": [
  {
   "cell_type": "markdown",
   "id": "b91af293",
   "metadata": {},
   "source": [
    "### Import necessary packages"
   ]
  },
  {
   "cell_type": "code",
   "execution_count": null,
   "id": "eb31f317",
   "metadata": {},
   "outputs": [],
   "source": [
    "import os\n",
    "import pandas as pd\n",
    "import numpy as np\n",
    "import statsmodels.formula.api as smf\n",
    "import warnings\n",
    "warnings.filterwarnings('ignore')\n",
    "# pip install --index-url https://test.pypi.org/simple/ synthetic-panel\n",
    "from synthetic_panel import estimate_transitions"
   ]
  },
  {
   "cell_type": "code",
   "execution_count": 13,
   "id": "00f0034b",
   "metadata": {},
   "outputs": [],
   "source": [
    "path = r\"D:\\OneDrive\\Documents\\synthetic_panel\"\n",
    "os.chdir(path)"
   ]
  },
  {
   "cell_type": "markdown",
   "id": "517036e0",
   "metadata": {},
   "source": [
    "### Preparing data"
   ]
  },
  {
   "cell_type": "code",
   "execution_count": 14,
   "id": "9df22808",
   "metadata": {},
   "outputs": [
    {
     "data": {
      "text/plain": [
       "Index(['pline_7', 'education_hh', 'rcons', 'gender', 'age1', 'age2', 'age3',\n",
       "       'age4', 'dwelling'],\n",
       "      dtype='object')"
      ]
     },
     "execution_count": 14,
     "metadata": {},
     "output_type": "execute_result"
    }
   ],
   "source": [
    "df2010 = pd.read_stata(os.path.join(path,\"nlss3_.dta\"))\n",
    "df2010.columns"
   ]
  },
  {
   "cell_type": "code",
   "execution_count": 15,
   "id": "ff85d66d",
   "metadata": {},
   "outputs": [
    {
     "data": {
      "text/plain": [
       "Index(['education_hh', 'pline', 'gender', 'age1', 'age2', 'age3', 'age4',\n",
       "       'dwelling', 'rcons'],\n",
       "      dtype='object')"
      ]
     },
     "execution_count": 15,
     "metadata": {},
     "output_type": "execute_result"
    }
   ],
   "source": [
    "df2021 = pd.read_stata(os.path.join(path,\"nlss4_.dta\"))\n",
    "df2021.columns"
   ]
  },
  {
   "cell_type": "code",
   "execution_count": 16,
   "id": "760df618",
   "metadata": {},
   "outputs": [
    {
     "name": "stdout",
     "output_type": "stream",
     "text": [
      "['pline_7', 'education_hh', 'rcons', 'gender', 'age1', 'age2', 'age3', 'age4', 'dwelling']\n",
      "['education_hh', 'pline', 'gender', 'age1', 'age2', 'age3', 'age4', 'dwelling', 'rcons']\n"
     ]
    }
   ],
   "source": [
    "print(df2010.columns.tolist())\n",
    "print(df2021.columns.tolist())"
   ]
  },
  {
   "cell_type": "markdown",
   "id": "c8155e88",
   "metadata": {},
   "source": [
    "### Transition dynamics"
   ]
  },
  {
   "cell_type": "code",
   "execution_count": 17,
   "id": "66428eab",
   "metadata": {},
   "outputs": [
    {
     "name": "stdout",
     "output_type": "stream",
     "text": [
      "✅ Column 'gender' is already integer.\n",
      "✅ Column 'age1' is already integer.\n",
      "✅ Column 'age2' is already integer.\n",
      "✅ Column 'age3' is already integer.\n",
      "✅ Column 'age4' is already integer.\n",
      "✅ Column 'dwelling' is already integer.\n",
      "\n",
      "🔧 Auto-generating cohort from cohort_cols: ['gender', 'age1', 'age2', 'age3', 'age4', 'dwelling']\n",
      "\n",
      "  WARNING: The following cohorts have fewer than 100 observations in df_round2:\n",
      "\n",
      "cohort\n",
      "0_0_0_0_1_0    89\n",
      "Name: count, dtype: int64\n",
      "\n",
      "Consider collapsing categories or using fewer cohort_cols.\n",
      "\n",
      "⏳ Running bootstrap...\n"
     ]
    },
    {
     "name": "stderr",
     "output_type": "stream",
     "text": [
      "Bootstrap (MP): 100%|██████████| 5/5 [01:11<00:00, 14.29s/iter]"
     ]
    },
    {
     "name": "stdout",
     "output_type": "stream",
     "text": [
      "\n",
      "✅ Bootstrap completed.\n",
      "⏱️  Total time: 1.2 min\n",
      "\n",
      "=== Bootstrap Poverty Transition Shares ===\n",
      "Stayed Poor (P11): 13.7%  (SE: 0.82%)\n",
      "Escaped Poverty (P10): 5.0%  (SE: 0.85%)\n",
      "Fell into Poverty (P01): 5.1%  (SE: 0.83%)\n",
      "Stayed Non-poor (P00): 76.3%  (SE: 0.86%)\n",
      "\n",
      "💾 Saved results to D:\\OneDrive\\Documents\\synthetic_panel\\test.xlsx\n",
      "      rho_c  rho_partial  Stayed Poor (P11)  Escaped Poverty (P10)  \\\n",
      "0  0.912788     0.914475           0.142673               0.043604   \n",
      "1  0.820061     0.816757           0.122782               0.063832   \n",
      "2  0.906278     0.909886           0.141180               0.044654   \n",
      "3  0.900472     0.909539           0.140961               0.044724   \n",
      "4  0.881059     0.883099           0.135489               0.050949   \n",
      "\n",
      "   Fell into Poverty (P01)  Stayed Non-poor (P00)  \n",
      "0                 0.045294               0.768430  \n",
      "1                 0.065189               0.748197  \n",
      "2                 0.046345               0.767821  \n",
      "3                 0.046399               0.767916  \n",
      "4                 0.052474               0.761088  \n"
     ]
    },
    {
     "name": "stderr",
     "output_type": "stream",
     "text": [
      "\n"
     ]
    }
   ],
   "source": [
    "bootstrap_results = estimate_transitions(\n",
    "    df_round1=df2010,\n",
    "    df_round2=df2021,\n",
    "    x_cols=['gender','age1', 'age2', 'age3','age4','dwelling'],         \n",
    "    cohort_cols=['gender','age1', 'age2', 'age3','age4','dwelling'],\n",
    "    dep_var_round1='rcons',                                   # dependent var in round1\n",
    "    dep_var_round2='rcons',                                   # dependent var in round2\n",
    "    pline_round1_name='pline_7',                              # will auto-calc using df2010['pline_7']\n",
    "    pline_round2_name='pline',                                # poverty line col in df2021\n",
    "    cohort_col='cohort',                                      # cohort ID column name\n",
    "    auto_create_cohort=True,                                  # create cohort from cohort_cols\n",
    "    log_transform=True,                                       # log-transform dependent vars\n",
    "    n_bootstrap=5,                                            # number of bootstrap reps\n",
    "    use_multiprocessing=True,                                 # use parallel processing\n",
    "    output_excel_filename=\"test.xlsx\",                        # save Excel file in current dir\n",
    "    seed=42                                                    # random seed for reproducibility\n",
    ")\n",
    "\n",
    "print(bootstrap_results.head())"
   ]
  },
  {
   "cell_type": "code",
   "execution_count": null,
   "id": "d9e9729d",
   "metadata": {},
   "outputs": [],
   "source": []
  }
 ],
 "metadata": {
  "kernelspec": {
   "display_name": "base",
   "language": "python",
   "name": "python3"
  },
  "language_info": {
   "codemirror_mode": {
    "name": "ipython",
    "version": 3
   },
   "file_extension": ".py",
   "mimetype": "text/x-python",
   "name": "python",
   "nbconvert_exporter": "python",
   "pygments_lexer": "ipython3",
   "version": "3.13.5"
  }
 },
 "nbformat": 4,
 "nbformat_minor": 5
}
